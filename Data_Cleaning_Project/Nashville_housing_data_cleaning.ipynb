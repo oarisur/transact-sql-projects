{
    "metadata": {
        "kernelspec": {
            "name": "SQL",
            "display_name": "SQL",
            "language": "sql"
        },
        "language_info": {
            "name": "sql",
            "version": ""
        }
    },
    "nbformat_minor": 2,
    "nbformat": 4,
    "cells": [
        {
            "cell_type": "markdown",
            "source": [
                "# **Data Cleaning Project: Nashville Housing Dataset**"
            ],
            "metadata": {
                "azdata_cell_guid": "8670fc6a-7fa9-4be5-b05d-7ff6929d07b0"
            },
            "attachments": {}
        },
        {
            "cell_type": "markdown",
            "source": [
                "## **Load the Dataset**"
            ],
            "metadata": {
                "language": "sql",
                "azdata_cell_guid": "de06ef1e-e0cb-49ee-9c46-bdad3981753e"
            },
            "attachments": {}
        },
        {
            "cell_type": "markdown",
            "source": [
                "### **Create a Copy of the Original Table**"
            ],
            "metadata": {
                "language": "sql",
                "azdata_cell_guid": "16fa3d45-ab44-4c26-a93a-43693a6e60dc"
            },
            "attachments": {}
        },
        {
            "cell_type": "code",
            "source": [
                "-- Create a copy of the Housing_Data table\r\n",
                "SELECT * \r\n",
                "INTO Housing_Data_Clean\r\n",
                "FROM Housing_Data;"
            ],
            "metadata": {
                "language": "sql",
                "azdata_cell_guid": "37729dd3-f8d0-47d8-a19f-62a7846e8664",
                "tags": []
            },
            "outputs": [
                {
                    "output_type": "display_data",
                    "data": {
                        "text/html": "(56477 rows affected)"
                    },
                    "metadata": {}
                },
                {
                    "output_type": "display_data",
                    "data": {
                        "text/html": "Total execution time: 00:00:00.126"
                    },
                    "metadata": {}
                }
            ],
            "execution_count": 1
        },
        {
            "cell_type": "markdown",
            "source": [
                "**Comment:** This is to keep the original data intact and unaltered."
            ],
            "metadata": {
                "language": "sql",
                "azdata_cell_guid": "b2a1dad4-7ece-4e84-a3bf-d938c0bfad44"
            },
            "attachments": {}
        },
        {
            "cell_type": "markdown",
            "source": [
                "## **Data Type Verification**"
            ],
            "metadata": {
                "language": "sql",
                "azdata_cell_guid": "b9341517-230f-48df-8d9b-20f6ac867e2e"
            },
            "attachments": {}
        },
        {
            "cell_type": "markdown",
            "source": [
                "### **Generate Data Types Report for All Columns**"
            ],
            "metadata": {
                "language": "sql",
                "azdata_cell_guid": "a50c51e1-c1b5-410f-ac2c-6c717dda656b"
            },
            "attachments": {}
        },
        {
            "cell_type": "code",
            "source": [
                "-- Retrieve all columns and their corresponding data types\r\n",
                "SELECT COLUMN_NAME as ColumnName, DATA_TYPE as DataType\r\n",
                "FROM INFORMATION_SCHEMA.COLUMNS\r\n",
                "WHERE TABLE_NAME = 'Housing_Data_Clean';"
            ],
            "metadata": {
                "language": "sql",
                "azdata_cell_guid": "b862b853-4f44-4053-a6de-a2ac505ca5e4"
            },
            "outputs": [
                {
                    "output_type": "display_data",
                    "data": {
                        "text/html": "(19 rows affected)"
                    },
                    "metadata": {}
                },
                {
                    "output_type": "display_data",
                    "data": {
                        "text/html": "Total execution time: 00:00:00.105"
                    },
                    "metadata": {}
                },
                {
                    "output_type": "execute_result",
                    "metadata": {},
                    "execution_count": 2,
                    "data": {
                        "application/vnd.dataresource+json": {
                            "schema": {
                                "fields": [
                                    {
                                        "name": "ColumnName"
                                    },
                                    {
                                        "name": "DataType"
                                    }
                                ]
                            },
                            "data": [
                                {
                                    "ColumnName": "UniqueID",
                                    "DataType": "int"
                                },
                                {
                                    "ColumnName": "ParcelID",
                                    "DataType": "nvarchar"
                                },
                                {
                                    "ColumnName": "LandUse",
                                    "DataType": "nvarchar"
                                },
                                {
                                    "ColumnName": "PropertyAddress",
                                    "DataType": "nvarchar"
                                },
                                {
                                    "ColumnName": "SaleDate",
                                    "DataType": "date"
                                },
                                {
                                    "ColumnName": "SalePrice",
                                    "DataType": "money"
                                },
                                {
                                    "ColumnName": "LegalReference",
                                    "DataType": "nvarchar"
                                },
                                {
                                    "ColumnName": "SoldAsVacant",
                                    "DataType": "nvarchar"
                                },
                                {
                                    "ColumnName": "OwnerName",
                                    "DataType": "nvarchar"
                                },
                                {
                                    "ColumnName": "OwnerAddress",
                                    "DataType": "nvarchar"
                                },
                                {
                                    "ColumnName": "Acreage",
                                    "DataType": "float"
                                },
                                {
                                    "ColumnName": "TaxDistrict",
                                    "DataType": "nvarchar"
                                },
                                {
                                    "ColumnName": "LandValue",
                                    "DataType": "money"
                                },
                                {
                                    "ColumnName": "BuildingValue",
                                    "DataType": "money"
                                },
                                {
                                    "ColumnName": "TotalValue",
                                    "DataType": "money"
                                },
                                {
                                    "ColumnName": "YearBuilt",
                                    "DataType": "int"
                                },
                                {
                                    "ColumnName": "Bedrooms",
                                    "DataType": "tinyint"
                                },
                                {
                                    "ColumnName": "FullBath",
                                    "DataType": "tinyint"
                                },
                                {
                                    "ColumnName": "HalfBath",
                                    "DataType": "tinyint"
                                }
                            ]
                        },
                        "text/html": [
                            "<table>",
                            "<tr><th>ColumnName</th><th>DataType</th></tr>",
                            "<tr><td>UniqueID</td><td>int</td></tr>",
                            "<tr><td>ParcelID</td><td>nvarchar</td></tr>",
                            "<tr><td>LandUse</td><td>nvarchar</td></tr>",
                            "<tr><td>PropertyAddress</td><td>nvarchar</td></tr>",
                            "<tr><td>SaleDate</td><td>date</td></tr>",
                            "<tr><td>SalePrice</td><td>money</td></tr>",
                            "<tr><td>LegalReference</td><td>nvarchar</td></tr>",
                            "<tr><td>SoldAsVacant</td><td>nvarchar</td></tr>",
                            "<tr><td>OwnerName</td><td>nvarchar</td></tr>",
                            "<tr><td>OwnerAddress</td><td>nvarchar</td></tr>",
                            "<tr><td>Acreage</td><td>float</td></tr>",
                            "<tr><td>TaxDistrict</td><td>nvarchar</td></tr>",
                            "<tr><td>LandValue</td><td>money</td></tr>",
                            "<tr><td>BuildingValue</td><td>money</td></tr>",
                            "<tr><td>TotalValue</td><td>money</td></tr>",
                            "<tr><td>YearBuilt</td><td>int</td></tr>",
                            "<tr><td>Bedrooms</td><td>tinyint</td></tr>",
                            "<tr><td>FullBath</td><td>tinyint</td></tr>",
                            "<tr><td>HalfBath</td><td>tinyint</td></tr>",
                            "</table>"
                        ]
                    }
                }
            ],
            "execution_count": 2
        },
        {
            "cell_type": "markdown",
            "source": [
                "**Comment:** All columns are correctly assigned their respective data types."
            ],
            "metadata": {
                "language": "sql",
                "azdata_cell_guid": "019dba54-a7cb-45c2-a6dc-0cba07abb517"
            },
            "attachments": {}
        },
        {
            "cell_type": "markdown",
            "source": [
                "## **Check for Missing Values**"
            ],
            "metadata": {
                "language": "sql",
                "azdata_cell_guid": "5bcf7af0-2956-4d67-ba61-5b0fc9eec49f"
            },
            "attachments": {}
        },
        {
            "cell_type": "markdown",
            "source": [
                "### **Generate Null Count Report for All Columns**"
            ],
            "metadata": {
                "language": "sql",
                "azdata_cell_guid": "ee7569df-ba34-4d24-89bf-dd526ddfea3b"
            },
            "attachments": {}
        },
        {
            "cell_type": "code",
            "source": [
                "-- Declare variables\r\n",
                "DECLARE @TableName NVARCHAR(50)\r\n",
                "SET @TableName = 'Housing_Data_Clean'\r\n",
                "\r\n",
                "-- Initialize dynamic SQL string\r\n",
                "DECLARE @SQL NVARCHAR(MAX) = ''\r\n",
                "\r\n",
                "-- Construct SQL to count null values for each column\r\n",
                "SELECT @SQL = @SQL + \r\n",
                "    'SELECT ''' + COLUMN_NAME + ''' AS column_name, \r\n",
                "    COUNT(CASE WHEN [' + COLUMN_NAME + '] IS NULL THEN 1 END) AS null_count\r\n",
                "    FROM ' + @TableName + ' UNION ALL '\r\n",
                "FROM INFORMATION_SCHEMA.COLUMNS\r\n",
                "WHERE TABLE_NAME = @TableName\r\n",
                "\r\n",
                "-- Remove the last 'UNION ALL' from the SQL string\r\n",
                "SET @SQL = LEFT(@SQL, LEN(@SQL) - 10)\r\n",
                "\r\n",
                "-- Final query to retrieve results\r\n",
                "SET @SQL = '\r\n",
                "SELECT column_name, SUM(null_count) AS null_count\r\n",
                "FROM (' + @SQL + ') AS Result\r\n",
                "GROUP BY column_name\r\n",
                "ORDER BY column_name'\r\n",
                "\r\n",
                "-- Execute the dynamic SQL\r\n",
                "EXEC sp_executesql @SQL;"
            ],
            "metadata": {
                "language": "sql",
                "azdata_cell_guid": "ab431615-b0ae-41cd-96f2-e3c5bcf185ed",
                "tags": []
            },
            "outputs": [
                {
                    "output_type": "display_data",
                    "data": {
                        "text/html": "Warning: Null value is eliminated by an aggregate or other SET operation."
                    },
                    "metadata": {}
                },
                {
                    "output_type": "display_data",
                    "data": {
                        "text/html": "(19 rows affected)"
                    },
                    "metadata": {}
                },
                {
                    "output_type": "display_data",
                    "data": {
                        "text/html": "Total execution time: 00:00:00.485"
                    },
                    "metadata": {}
                },
                {
                    "output_type": "execute_result",
                    "metadata": {},
                    "execution_count": 3,
                    "data": {
                        "application/vnd.dataresource+json": {
                            "schema": {
                                "fields": [
                                    {
                                        "name": "column_name"
                                    },
                                    {
                                        "name": "null_count"
                                    }
                                ]
                            },
                            "data": [
                                {
                                    "column_name": "Acreage",
                                    "null_count": "30462"
                                },
                                {
                                    "column_name": "Bedrooms",
                                    "null_count": "32320"
                                },
                                {
                                    "column_name": "BuildingValue",
                                    "null_count": "30462"
                                },
                                {
                                    "column_name": "FullBath",
                                    "null_count": "32202"
                                },
                                {
                                    "column_name": "HalfBath",
                                    "null_count": "32333"
                                },
                                {
                                    "column_name": "LandUse",
                                    "null_count": "0"
                                },
                                {
                                    "column_name": "LandValue",
                                    "null_count": "30462"
                                },
                                {
                                    "column_name": "LegalReference",
                                    "null_count": "0"
                                },
                                {
                                    "column_name": "OwnerAddress",
                                    "null_count": "30462"
                                },
                                {
                                    "column_name": "OwnerName",
                                    "null_count": "31216"
                                },
                                {
                                    "column_name": "ParcelID",
                                    "null_count": "0"
                                },
                                {
                                    "column_name": "PropertyAddress",
                                    "null_count": "29"
                                },
                                {
                                    "column_name": "SaleDate",
                                    "null_count": "0"
                                },
                                {
                                    "column_name": "SalePrice",
                                    "null_count": "0"
                                },
                                {
                                    "column_name": "SoldAsVacant",
                                    "null_count": "0"
                                },
                                {
                                    "column_name": "TaxDistrict",
                                    "null_count": "30462"
                                },
                                {
                                    "column_name": "TotalValue",
                                    "null_count": "30462"
                                },
                                {
                                    "column_name": "UniqueID",
                                    "null_count": "0"
                                },
                                {
                                    "column_name": "YearBuilt",
                                    "null_count": "32314"
                                }
                            ]
                        },
                        "text/html": [
                            "<table>",
                            "<tr><th>column_name</th><th>null_count</th></tr>",
                            "<tr><td>Acreage</td><td>30462</td></tr>",
                            "<tr><td>Bedrooms</td><td>32320</td></tr>",
                            "<tr><td>BuildingValue</td><td>30462</td></tr>",
                            "<tr><td>FullBath</td><td>32202</td></tr>",
                            "<tr><td>HalfBath</td><td>32333</td></tr>",
                            "<tr><td>LandUse</td><td>0</td></tr>",
                            "<tr><td>LandValue</td><td>30462</td></tr>",
                            "<tr><td>LegalReference</td><td>0</td></tr>",
                            "<tr><td>OwnerAddress</td><td>30462</td></tr>",
                            "<tr><td>OwnerName</td><td>31216</td></tr>",
                            "<tr><td>ParcelID</td><td>0</td></tr>",
                            "<tr><td>PropertyAddress</td><td>29</td></tr>",
                            "<tr><td>SaleDate</td><td>0</td></tr>",
                            "<tr><td>SalePrice</td><td>0</td></tr>",
                            "<tr><td>SoldAsVacant</td><td>0</td></tr>",
                            "<tr><td>TaxDistrict</td><td>30462</td></tr>",
                            "<tr><td>TotalValue</td><td>30462</td></tr>",
                            "<tr><td>UniqueID</td><td>0</td></tr>",
                            "<tr><td>YearBuilt</td><td>32314</td></tr>",
                            "</table>"
                        ]
                    }
                }
            ],
            "execution_count": 3
        },
        {
            "cell_type": "markdown",
            "source": [
                "**Comment:** Data exhibits varying degrees of missing values across its columns. Out of 19 columns, 12 contain a significant number of null values, ranging from 30,462 to 32,333. Only the PropertyAddress column has 29 missing values."
            ],
            "metadata": {
                "language": "",
                "azdata_cell_guid": "6bab315c-7774-4c3f-a904-8edb2589db46"
            },
            "attachments": {}
        },
        {
            "cell_type": "markdown",
            "source": [
                "### **Further Investigation of Null Values**"
            ],
            "metadata": {
                "language": "sql",
                "azdata_cell_guid": "3fd29dec-4835-44a3-ae83-c544eed106c4"
            },
            "attachments": {}
        },
        {
            "cell_type": "code",
            "source": [
                "-- Retrieves all columns from the Housing_Data_Clean table\r\n",
                "SELECT *\r\n",
                "FROM Housing_Data_Clean;"
            ],
            "metadata": {
                "language": "sql",
                "azdata_cell_guid": "ddaf3490-a253-4d06-a9c4-06fc70e2dba2",
                "tags": []
            },
            "outputs": [],
            "execution_count": null
        },
        {
            "cell_type": "markdown",
            "source": [
                "**Comment:** Data are missing across majority of columns, which significantly compromise the completeness of each record. Out of 56477 rows, more than 30,000 rows in the dataset are affected similarly. A thorough examination of the dataset reveals that it is not possible to calculate the exact values of the missing fields where many columns data are missing in a single a row. Imputing such a large amount data would result in a susbtantial portion of information being estimated rather than observed. Hence, considering deletion of these rows may be reasonable. Columns  such as, YearBuilt, Bedrooms, FullBath, Halfbath have exhibit additional null values, particularly when BuildingValue is 0. ParcelID serving as an identifier, correlates closely with PropertyAddress. If we know the ParcelID, we can retrieve the missing PropertyAddress as long as another row with the same ParcelID and PropertyAddress exists. It also appears that Propertyaddress and OwnerAddress columns contain similar data, with the OwnerAddress column including additional state information."
            ],
            "metadata": {
                "language": "sql",
                "azdata_cell_guid": "dce09cab-157d-41ad-83ff-130e118ba254"
            },
            "attachments": {}
        },
        {
            "cell_type": "markdown",
            "source": [
                "## **Handle Missing Values**"
            ],
            "metadata": {
                "language": "sql",
                "azdata_cell_guid": "c07c26fa-d1f5-411c-8b19-c19b3d7f79d6"
            },
            "attachments": {}
        },
        {
            "cell_type": "markdown",
            "source": [
                "### **Null Value Imputation**"
            ],
            "metadata": {
                "language": "sql",
                "azdata_cell_guid": "16938339-1a61-4fca-b53a-e26e1b828abe"
            },
            "attachments": {}
        },
        {
            "cell_type": "code",
            "source": [
                "-- Update table with missing PropertyAddresses\r\n",
                "UPDATE Housing_Data_Clean\r\n",
                "SET PropertyAddress = (\r\n",
                "-- Search for PropertyAddress with null value and fill that by non-null PropertyAddress value from another record by matching their ParcelID\r\n",
                "    SELECT TOP (1) hd.PropertyAddress\r\n",
                "    FROM Housing_Data_Clean hd\r\n",
                "    WHERE hd.ParcelID = Housing_Data_Clean.ParcelID\r\n",
                "    AND hd.PropertyAddress IS NOT NULL\r\n",
                ")\r\n",
                "WHERE PropertyAddress IS NULL;"
            ],
            "metadata": {
                "language": "sql",
                "azdata_cell_guid": "28b302c7-23c2-4e5e-a6ee-356434301b28",
                "tags": []
            },
            "outputs": [
                {
                    "output_type": "display_data",
                    "data": {
                        "text/html": "(29 rows affected)"
                    },
                    "metadata": {}
                },
                {
                    "output_type": "display_data",
                    "data": {
                        "text/html": "Total execution time: 00:00:00.198"
                    },
                    "metadata": {}
                }
            ],
            "execution_count": 4
        },
        {
            "cell_type": "markdown",
            "source": [
                "**Comment:** A total of 29 cells were imputed of the PropertyAddress column. Performing null value imputation before deleting rows ensures that efforsts were made to retain as much information as possible from the dataset."
            ],
            "metadata": {
                "language": "sql",
                "azdata_cell_guid": "bbe221a4-d0b2-41c4-a87b-44f83744f33f"
            },
            "attachments": {}
        },
        {
            "cell_type": "markdown",
            "source": [
                "### **Remove Rows with Many Null Values**"
            ],
            "metadata": {
                "language": "sql",
                "azdata_cell_guid": "e426b6a8-0682-4ca3-99c2-0e20b0827114"
            },
            "attachments": {}
        },
        {
            "cell_type": "code",
            "source": [
                "-- Delete rows where 11 column values are missing\r\n",
                "DELETE \r\n",
                "FROM Housing_Data_Clean\r\n",
                "WHERE\r\n",
                "-- Check if column is null\r\n",
                "Acreage IS NULL\r\n",
                "AND Bedrooms IS NULL\r\n",
                "AND FullBath IS NULL\r\n",
                "AND HalfBath IS NULL\r\n",
                "AND LandValue IS NULL\r\n",
                "AND OwnerAddress IS NULL\r\n",
                "AND OwnerName IS NULL\r\n",
                "AND TaxDistrict IS NULL\r\n",
                "AND TotalValue IS NULL\r\n",
                "AND YearBuilt IS NULL;"
            ],
            "metadata": {
                "language": "sql",
                "azdata_cell_guid": "05bf4a7c-9d78-4454-ad34-a3893283b3d0",
                "tags": []
            },
            "outputs": [
                {
                    "output_type": "display_data",
                    "data": {
                        "text/html": "(30462 rows affected)"
                    },
                    "metadata": {}
                },
                {
                    "output_type": "display_data",
                    "data": {
                        "text/html": "Total execution time: 00:00:00.092"
                    },
                    "metadata": {}
                }
            ],
            "execution_count": 5
        },
        {
            "cell_type": "markdown",
            "source": [
                "**Comment:** 30462 rows were deleted due to having null values across 11 columns. There are still null values present in the BuildingValue, YearBuilt, Bedrooms, FullBath, HalfBath and OwnerName columns. However, unlike the previously encountered random null values,  these null values may follow a discernible pattern or are associated with specific factors."
            ],
            "metadata": {
                "language": "sql",
                "azdata_cell_guid": "cef029ee-9871-4536-bda7-1ebd9c9d246c"
            },
            "attachments": {}
        },
        {
            "cell_type": "markdown",
            "source": [
                "## **Check for Formatting Errors**"
            ],
            "metadata": {
                "language": "sql",
                "azdata_cell_guid": "ec5dc9ae-1576-4db7-baa9-ad763ba06fbe"
            },
            "attachments": {}
        },
        {
            "cell_type": "markdown",
            "source": [
                "### **Check for Incorrect Date Format**"
            ],
            "metadata": {
                "language": "sql",
                "azdata_cell_guid": "9747b81d-3dd3-4795-8cca-4e98b1d522fd"
            },
            "attachments": {}
        },
        {
            "cell_type": "code",
            "source": [
                "-- Convert SaleDate column values to date data type and filters out rows if conversion fails\n",
                "SELECT *\n",
                "FROM Housing_Data_Clean\n",
                "WHERE TRY_CONVERT(date, SaleDate) IS NULL;"
            ],
            "metadata": {
                "language": "sql",
                "azdata_cell_guid": "e321fb99-2740-4cef-aa36-03ebc6091463",
                "tags": []
            },
            "outputs": [
                {
                    "output_type": "display_data",
                    "data": {
                        "text/html": "(0 rows affected)"
                    },
                    "metadata": {}
                },
                {
                    "output_type": "display_data",
                    "data": {
                        "text/html": "Total execution time: 00:00:00.012"
                    },
                    "metadata": {}
                },
                {
                    "output_type": "execute_result",
                    "metadata": {},
                    "execution_count": 6,
                    "data": {
                        "application/vnd.dataresource+json": {
                            "schema": {
                                "fields": [
                                    {
                                        "name": "UniqueID"
                                    },
                                    {
                                        "name": "ParcelID"
                                    },
                                    {
                                        "name": "LandUse"
                                    },
                                    {
                                        "name": "PropertyAddress"
                                    },
                                    {
                                        "name": "SaleDate"
                                    },
                                    {
                                        "name": "SalePrice"
                                    },
                                    {
                                        "name": "LegalReference"
                                    },
                                    {
                                        "name": "SoldAsVacant"
                                    },
                                    {
                                        "name": "OwnerName"
                                    },
                                    {
                                        "name": "OwnerAddress"
                                    },
                                    {
                                        "name": "Acreage"
                                    },
                                    {
                                        "name": "TaxDistrict"
                                    },
                                    {
                                        "name": "LandValue"
                                    },
                                    {
                                        "name": "BuildingValue"
                                    },
                                    {
                                        "name": "TotalValue"
                                    },
                                    {
                                        "name": "YearBuilt"
                                    },
                                    {
                                        "name": "Bedrooms"
                                    },
                                    {
                                        "name": "FullBath"
                                    },
                                    {
                                        "name": "HalfBath"
                                    }
                                ]
                            },
                            "data": []
                        },
                        "text/html": [
                            "<table>",
                            "<tr><th>UniqueID</th><th>ParcelID</th><th>LandUse</th><th>PropertyAddress</th><th>SaleDate</th><th>SalePrice</th><th>LegalReference</th><th>SoldAsVacant</th><th>OwnerName</th><th>OwnerAddress</th><th>Acreage</th><th>TaxDistrict</th><th>LandValue</th><th>BuildingValue</th><th>TotalValue</th><th>YearBuilt</th><th>Bedrooms</th><th>FullBath</th><th>HalfBath</th></tr>",
                            "</table>"
                        ]
                    }
                }
            ],
            "execution_count": 6
        },
        {
            "cell_type": "markdown",
            "source": [
                "**Comment:** Returned 0 row which indicates correct date formats."
            ],
            "metadata": {
                "language": "sql",
                "azdata_cell_guid": "6d725b90-72d9-4770-9a71-ab366277f141"
            },
            "attachments": {}
        },
        {
            "cell_type": "markdown",
            "source": [
                "### **Check for Non-Numeric Values in Numeric Columns**"
            ],
            "metadata": {
                "language": "sql",
                "azdata_cell_guid": "01ca48c9-5db1-427b-99fb-28f1d4f5c5ab"
            },
            "attachments": {}
        },
        {
            "cell_type": "code",
            "source": [
                "-- Filters out non-numeric rows of each numeric columns\r\n",
                "SELECT *\r\n",
                "FROM Housing_Data_Clean\r\n",
                "WHERE ISNUMERIC(UniqueID) = 0 \r\n",
                "OR ISNUMERIC(SalePrice) = 0\r\n",
                "OR ISNUMERIC(Acreage) = 0\r\n",
                "OR ISNUMERIC(LandValue) = 0\r\n",
                "OR ISNUMERIC(BuildingValue) = 0\r\n",
                "OR ISNUMERIC(TotalValue) = 0\r\n",
                "OR ISNUMERIC(YearBuilt) = 0\r\n",
                "OR ISNUMERIC(Bedrooms) = 0\r\n",
                "OR ISNUMERIC(FullBath) = 0\r\n",
                "OR ISNUMERIC(HalfBath) = 0;"
            ],
            "metadata": {
                "language": "sql",
                "azdata_cell_guid": "4de087ea-3739-4271-89f9-95862e10d13c",
                "tags": []
            },
            "outputs": [],
            "execution_count": null
        },
        {
            "cell_type": "markdown",
            "source": [
                "**Comment:** Returned 2002 rows in total. However, These rows were filtered out due to the presence of nall values."
            ],
            "metadata": {
                "language": "sql",
                "azdata_cell_guid": "9655a3fb-d07a-42a4-a187-638b1478b631"
            },
            "attachments": {}
        },
        {
            "cell_type": "markdown",
            "source": [
                "### **Check for Leading and Trailing Spaces**"
            ],
            "metadata": {
                "language": "sql",
                "azdata_cell_guid": "5cd07580-cb4c-46d4-85eb-1e21fe34e3d3"
            },
            "attachments": {}
        },
        {
            "cell_type": "code",
            "source": [
                "-- Filters out rows with leading/trailing spaces\r\n",
                "SELECT *\r\n",
                "FROM Housing_Data_Clean\r\n",
                "WHERE LTRIM(RTRIM(UniqueID)) <> UniqueID\r\n",
                "OR LTRIM(RTRIM(ParcelID)) <> ParcelID\r\n",
                "OR LTRIM(RTRIM(LandUse)) <> LandUse\r\n",
                "OR LTRIM(RTRIM(PropertyAddress)) <> PropertyAddress\r\n",
                "OR LTRIM(RTRIM(SaleDate)) <> SaleDate\r\n",
                "OR LTRIM(RTRIM(SalePrice)) <> SalePrice\r\n",
                "OR LTRIM(RTRIM(LegalReference)) <> LegalReference\r\n",
                "OR LTRIM(RTRIM(SoldAsVacant)) <> SoldAsVacant\r\n",
                "OR LTRIM(RTRIM(OwnerName)) <> OwnerName\r\n",
                "OR LTRIM(RTRIM(OwnerAddress)) <> OwnerAddress\r\n",
                "OR LTRIM(RTRIM(Acreage)) <> Acreage\r\n",
                "OR LTRIM(RTRIM(TaxDistrict)) <> TaxDistrict\r\n",
                "OR LTRIM(RTRIM(LandValue)) <> LandValue\r\n",
                "OR LTRIM(RTRIM(BuildingValue)) <> BuildingValue\r\n",
                "OR LTRIM(RTRIM(TotalValue)) <> TotalValue\r\n",
                "OR LTRIM(RTRIM(YearBuilt)) <> YearBuilt\r\n",
                "OR LTRIM(RTRIM(Bedrooms)) <> Bedrooms\r\n",
                "OR LTRIM(RTRIM(FullBath)) <> FullBath\r\n",
                "OR LTRIM(RTRIM(HalfBath)) <> HalfBath;"
            ],
            "metadata": {
                "language": "sql",
                "azdata_cell_guid": "e46cf40d-3a89-4734-8ac4-193a3e325ffd"
            },
            "outputs": [
                {
                    "output_type": "display_data",
                    "data": {
                        "text/html": "(1 row affected)"
                    },
                    "metadata": {}
                },
                {
                    "output_type": "display_data",
                    "data": {
                        "text/html": "Total execution time: 00:00:00.239"
                    },
                    "metadata": {}
                },
                {
                    "output_type": "execute_result",
                    "metadata": {},
                    "execution_count": 8,
                    "data": {
                        "application/vnd.dataresource+json": {
                            "schema": {
                                "fields": [
                                    {
                                        "name": "UniqueID"
                                    },
                                    {
                                        "name": "ParcelID"
                                    },
                                    {
                                        "name": "LandUse"
                                    },
                                    {
                                        "name": "PropertyAddress"
                                    },
                                    {
                                        "name": "SaleDate"
                                    },
                                    {
                                        "name": "SalePrice"
                                    },
                                    {
                                        "name": "LegalReference"
                                    },
                                    {
                                        "name": "SoldAsVacant"
                                    },
                                    {
                                        "name": "OwnerName"
                                    },
                                    {
                                        "name": "OwnerAddress"
                                    },
                                    {
                                        "name": "Acreage"
                                    },
                                    {
                                        "name": "TaxDistrict"
                                    },
                                    {
                                        "name": "LandValue"
                                    },
                                    {
                                        "name": "BuildingValue"
                                    },
                                    {
                                        "name": "TotalValue"
                                    },
                                    {
                                        "name": "YearBuilt"
                                    },
                                    {
                                        "name": "Bedrooms"
                                    },
                                    {
                                        "name": "FullBath"
                                    },
                                    {
                                        "name": "HalfBath"
                                    }
                                ]
                            },
                            "data": [
                                {
                                    "UniqueID": "9095",
                                    "ParcelID": "063 12 0 063.00",
                                    "LandUse": "VACANT RES LAND",
                                    "PropertyAddress": "  HADLEYS BEND BLVD, OLD HICKORY",
                                    "SaleDate": "2013-10-31",
                                    "SalePrice": "19000.00",
                                    "LegalReference": "20131101-0113875",
                                    "SoldAsVacant": "Yes",
                                    "OwnerName": "DANNER-ELLER GOLF PROPERTIES, INC.",
                                    "OwnerAddress": "0  HADLEYS BEND BLVD, OLD HICKORY, TN",
                                    "Acreage": "1.15",
                                    "TaxDistrict": "GENERAL SERVICES DISTRICT",
                                    "LandValue": "17600.00",
                                    "BuildingValue": "0.00",
                                    "TotalValue": "17600.00",
                                    "YearBuilt": "NULL",
                                    "Bedrooms": "NULL",
                                    "FullBath": "0",
                                    "HalfBath": "0"
                                }
                            ]
                        },
                        "text/html": [
                            "<table>",
                            "<tr><th>UniqueID</th><th>ParcelID</th><th>LandUse</th><th>PropertyAddress</th><th>SaleDate</th><th>SalePrice</th><th>LegalReference</th><th>SoldAsVacant</th><th>OwnerName</th><th>OwnerAddress</th><th>Acreage</th><th>TaxDistrict</th><th>LandValue</th><th>BuildingValue</th><th>TotalValue</th><th>YearBuilt</th><th>Bedrooms</th><th>FullBath</th><th>HalfBath</th></tr>",
                            "<tr><td>9095</td><td>063 12 0 063.00</td><td>VACANT RES LAND</td><td>  HADLEYS BEND BLVD, OLD HICKORY</td><td>2013-10-31</td><td>19000.00</td><td>20131101-0113875</td><td>Yes</td><td>DANNER-ELLER GOLF PROPERTIES, INC.</td><td>0  HADLEYS BEND BLVD, OLD HICKORY, TN</td><td>1.15</td><td>GENERAL SERVICES DISTRICT</td><td>17600.00</td><td>0.00</td><td>17600.00</td><td>NULL</td><td>NULL</td><td>0</td><td>0</td></tr>",
                            "</table>"
                        ]
                    }
                }
            ],
            "execution_count": 8
        },
        {
            "cell_type": "markdown",
            "source": [
                "**Comment:** Only one row of PropertyAddress column has leading/trailing related issue."
            ],
            "metadata": {
                "language": "sql",
                "azdata_cell_guid": "94be3a0c-8a3f-49f0-8d5f-3ea2a344ee16"
            },
            "attachments": {}
        },
        {
            "cell_type": "markdown",
            "source": [
                "### **Manually Check for Other Formatting Errors**"
            ],
            "metadata": {
                "language": "sql",
                "azdata_cell_guid": "24e7dead-bcbe-4fbb-a028-2a20a978a8ea"
            },
            "attachments": {}
        },
        {
            "cell_type": "code",
            "source": [
                "-- View all columns\r\n",
                "SELECT *\r\n",
                "FROM Housing_Data_Clean;"
            ],
            "metadata": {
                "language": "sql",
                "azdata_cell_guid": "6e645f71-cf13-4cc6-a88f-c7f38add513f",
                "tags": []
            },
            "outputs": [],
            "execution_count": null
        },
        {
            "cell_type": "markdown",
            "source": [
                "**Comment:** LandUsePropertyaddress, LegalReference, OwnerName, and OwnerAddress Columns have mixed spacing inside texts. There are typing issues present in columns LandUse (e.g. mix of VACANT RES LAND and VACANT RESIDENTIAL LAND), Legalreference (e.g. shorter or longer cell values than expected), SoldAsVacant (e.g. mix of N and No), OwnerName (mix of comma and no comma)."
            ],
            "metadata": {
                "language": "sql",
                "azdata_cell_guid": "d1d374f2-fa1c-4a60-9387-ce0e4f11b7d9"
            },
            "attachments": {}
        },
        {
            "cell_type": "markdown",
            "source": [
                "## **Handle Formatting Errors**"
            ],
            "metadata": {
                "language": "sql",
                "azdata_cell_guid": "40147301-57e9-4cf4-b2fb-939d29556ae3"
            },
            "attachments": {}
        },
        {
            "cell_type": "markdown",
            "source": [
                "### **Remove Leading and Trailing Spaces**"
            ],
            "metadata": {
                "language": "sql",
                "azdata_cell_guid": "53926244-c597-460d-b058-8c433680157f"
            },
            "attachments": {}
        },
        {
            "cell_type": "code",
            "source": [
                "-- Trim and update cell with leading/trailing spaces\r\n",
                "UPDATE Housing_Data_Clean\r\n",
                "SET PropertyAddress = LTRIM(RTRIM(PropertyAddress))\r\n",
                "WHERE UniqueID = 9095;"
            ],
            "metadata": {
                "language": "sql",
                "azdata_cell_guid": "8b035ee8-6832-44e2-a99e-8153a415cdd4",
                "tags": []
            },
            "outputs": [
                {
                    "output_type": "display_data",
                    "data": {
                        "text/html": "(1 row affected)"
                    },
                    "metadata": {}
                },
                {
                    "output_type": "display_data",
                    "data": {
                        "text/html": "Total execution time: 00:00:00.029"
                    },
                    "metadata": {}
                }
            ],
            "execution_count": 9
        },
        {
            "cell_type": "markdown",
            "source": [
                "**Comment:** PropertyAddress value for row with UniqueID = 9095 was updated to remove any leading/trailing spaces."
            ],
            "metadata": {
                "language": "sql",
                "azdata_cell_guid": "a523f687-8c9f-4104-bbf0-8b32445e5959"
            },
            "attachments": {}
        },
        {
            "cell_type": "markdown",
            "source": [
                "### **Standardize Spaces**"
            ],
            "metadata": {
                "language": "sql",
                "azdata_cell_guid": "1af46b98-1c47-4825-9994-25f1a6262ab1"
            },
            "attachments": {}
        },
        {
            "cell_type": "code",
            "source": [
                "-- Standardize spaces in the PropertyAddress column by replacing multiple spaces with a single space\r\n",
                "UPDATE Housing_Data_Clean\r\n",
                "SET PropertyAddress = REPLACE(PropertyAddress, '  ', ' ');\r\n",
                "\r\n",
                "-- Standardize spaces in the OwnerName column by replacing multiple spaces with a single space\r\n",
                "UPDATE Housing_Data_Clean\r\n",
                "SET OwnerName = REPLACE(OwnerName, '  ', ' ');\r\n",
                "\r\n",
                "-- Standardize spaces in the OwnerAddress column by replacing multiple spaces with a single space\r\n",
                "UPDATE Housing_Data_Clean\r\n",
                "SET OwnerAddress = REPLACE(OwnerAddress, '  ', ' ');"
            ],
            "metadata": {
                "language": "sql",
                "azdata_cell_guid": "9491b605-f4f9-41bf-badc-93c9be67f1f1"
            },
            "outputs": [
                {
                    "output_type": "display_data",
                    "data": {
                        "text/html": "(26015 rows affected)"
                    },
                    "metadata": {}
                },
                {
                    "output_type": "display_data",
                    "data": {
                        "text/html": "(26015 rows affected)"
                    },
                    "metadata": {}
                },
                {
                    "output_type": "display_data",
                    "data": {
                        "text/html": "(26015 rows affected)"
                    },
                    "metadata": {}
                },
                {
                    "output_type": "display_data",
                    "data": {
                        "text/html": "Total execution time: 00:00:00.641"
                    },
                    "metadata": {}
                }
            ],
            "execution_count": 10
        },
        {
            "cell_type": "markdown",
            "source": [
                "**Comment:** In this way spacing between words in the PropertyAddress, OwnerName, and OwnerAddress columns are standardized to 1."
            ],
            "metadata": {
                "language": "sql",
                "azdata_cell_guid": "dd83c2da-2a90-47ce-8824-ea1682d23f30"
            },
            "attachments": {}
        },
        {
            "cell_type": "markdown",
            "source": [
                "### **Resolving Typing Errors**"
            ],
            "metadata": {
                "language": "sql",
                "azdata_cell_guid": "21858e26-2c87-44ea-b1ad-8449ee9f47b2"
            },
            "attachments": {}
        },
        {
            "cell_type": "code",
            "source": [
                "-- Update the LandUse column to replace 'GREENBELT/RES GRRENBELT/RES' with 'GREENBELT/RES'\r\n",
                "UPDATE Housing_Data_Clean\r\n",
                "SET LandUse = 'GREENBELT/RES'\r\n",
                "WHERE LandUse = 'GREENBELT/RES\r\n",
                "GRRENBELT/RES';\r\n",
                "\r\n",
                "-- Update the LandUse column to replace 'VACANT RES LAND' with 'VACANT RESIDENTIAL LAND'\r\n",
                "UPDATE Housing_Data_Clean\r\n",
                "SET LandUse = 'VACANT RESIDENTIAL LAND'\r\n",
                "WHERE LandUse = 'VACANT RES LAND';\r\n",
                "\r\n",
                "-- Update the LegalReference column where '10160622-0063516' is corrected to '20160622-0063516' \r\n",
                "UPDATE Housing_Data_Clean\r\n",
                "SET LegalReference = '20160622-0063516'\r\n",
                "WHERE LegalReference = '10160622-0063516';\r\n",
                "\r\n",
                "-- Update the LegalReference column where '21040903-0080324' is corrected to '20140903-0080324' \r\n",
                "UPDATE Housing_Data_Clean\r\n",
                "SET LegalReference = '20140903-0080324'\r\n",
                "WHERE LegalReference = '21040903-0080324';\r\n",
                "\r\n",
                "-- Update the LegalReference column where '20150310 -0020554' is corrected to '20150310-0020554'\r\n",
                "UPDATE Housing_Data_Clean\r\n",
                "SET LegalReference = '20150310-0020554'\r\n",
                "WHERE LegalReference = '20150310 -0020554';\r\n",
                "\r\n",
                "-- Update the LegalReference column where '20105031- 002049' is corrected to '20150310-0020497' \r\n",
                "UPDATE Housing_Data_Clean\r\n",
                "SET LegalReference = '20150310-0020497'\r\n",
                "WHERE LegalReference = '20105031- 002049';\r\n",
                "\r\n",
                "-- Update the LegalReference column where '25015081- 008375' is corrected to '20150819-0083759' \r\n",
                "UPDATE Housing_Data_Clean\r\n",
                "SET LegalReference = '20150815-0008375'\r\n",
                "WHERE LegalReference = '25015081- 008375';\r\n",
                "\r\n",
                "-- Update the LegalReference column where '20160408-00339999' is corrected to '20160408-0033999' \r\n",
                "UPDATE Housing_Data_Clean\r\n",
                "SET LegalReference = '20160408-0033999'\r\n",
                "WHERE LegalReference = '20160408-00339999';\r\n",
                "\r\n",
                "-- Update the LegalReference column where '20130610-00588852' is corrected to '20130610-0058852'\r\n",
                "UPDATE Housing_Data_Clean\r\n",
                "SET LegalReference = '20130610-0058852'\r\n",
                "WHERE LegalReference = '20130610-00588852';\r\n",
                "\r\n",
                "-- Update the LegalReference column where '20015100- 010146' is corrected to null \r\n",
                "UPDATE Housing_Data_Clean\r\n",
                "SET LegalReference = NULL\r\n",
                "WHERE LegalReference = '20015100- 010146';\r\n",
                "\r\n",
                "-- Update the LegalReference column where '-2020988' is corrected to null \r\n",
                "UPDATE Housing_Data_Clean\r\n",
                "SET LegalReference = NULL\r\n",
                "WHERE LegalReference = '-2020988';\r\n",
                "\r\n",
                "-- Update the LegalReference column where '-2020879' is corrected to null \r\n",
                "UPDATE Housing_Data_Clean\r\n",
                "SET LegalReference = NULL\r\n",
                "WHERE LegalReference = '-2020879';\r\n",
                "\r\n",
                "-- Update the LegalReference column where '-2016598' is corrected to null \r\n",
                "UPDATE Housing_Data_Clean\r\n",
                "SET LegalReference = NULL\r\n",
                "WHERE LegalReference = '-2016598';\r\n",
                "\r\n",
                "-- Update the SoldAsVacant column where 'No' and 'N' is corrected to 'NO'\r\n",
                "UPDATE Housing_Data_Clean\r\n",
                "SET SoldAsVacant = 'NO'\r\n",
                "WHERE SoldAsVacant = 'No' or SoldAsVacant = 'N';\r\n",
                "\r\n",
                "-- Update the SoldAsVacant column where 'Yes' and 'Y' is corrected to 'YES'\r\n",
                "UPDATE Housing_Data_Clean\r\n",
                "SET SoldAsVacant = 'YES'\r\n",
                "WHERE SoldAsVacant = 'Yes' or SoldAsVacant = 'Y';\r\n",
                "\r\n",
                "-- Add comma before 'LLC' if it is not already present in the OwnerName column\r\n",
                "UPDATE Housing_Data_Clean\r\n",
                "SET OwnerName = REPLACE(OwnerName, ' LLC', ', LLC')\r\n",
                "WHERE OwnerName LIKE '% LLC' AND OwnerName NOT LIKE '%, LLC';"
            ],
            "metadata": {
                "language": "sql",
                "azdata_cell_guid": "27c3b826-0bee-4111-a573-84aa2e9f0d17",
                "tags": []
            },
            "outputs": [
                {
                    "output_type": "display_data",
                    "data": {
                        "text/html": "(3 rows affected)"
                    },
                    "metadata": {}
                },
                {
                    "output_type": "display_data",
                    "data": {
                        "text/html": "(445 rows affected)"
                    },
                    "metadata": {}
                },
                {
                    "output_type": "display_data",
                    "data": {
                        "text/html": "(1 row affected)"
                    },
                    "metadata": {}
                },
                {
                    "output_type": "display_data",
                    "data": {
                        "text/html": "(1 row affected)"
                    },
                    "metadata": {}
                },
                {
                    "output_type": "display_data",
                    "data": {
                        "text/html": "(1 row affected)"
                    },
                    "metadata": {}
                },
                {
                    "output_type": "display_data",
                    "data": {
                        "text/html": "(1 row affected)"
                    },
                    "metadata": {}
                },
                {
                    "output_type": "display_data",
                    "data": {
                        "text/html": "(1 row affected)"
                    },
                    "metadata": {}
                },
                {
                    "output_type": "display_data",
                    "data": {
                        "text/html": "(1 row affected)"
                    },
                    "metadata": {}
                },
                {
                    "output_type": "display_data",
                    "data": {
                        "text/html": "(1 row affected)"
                    },
                    "metadata": {}
                },
                {
                    "output_type": "display_data",
                    "data": {
                        "text/html": "(1 row affected)"
                    },
                    "metadata": {}
                },
                {
                    "output_type": "display_data",
                    "data": {
                        "text/html": "(1 row affected)"
                    },
                    "metadata": {}
                },
                {
                    "output_type": "display_data",
                    "data": {
                        "text/html": "(1 row affected)"
                    },
                    "metadata": {}
                },
                {
                    "output_type": "display_data",
                    "data": {
                        "text/html": "(1 row affected)"
                    },
                    "metadata": {}
                },
                {
                    "output_type": "display_data",
                    "data": {
                        "text/html": "(24784 rows affected)"
                    },
                    "metadata": {}
                },
                {
                    "output_type": "display_data",
                    "data": {
                        "text/html": "(1231 rows affected)"
                    },
                    "metadata": {}
                },
                {
                    "output_type": "display_data",
                    "data": {
                        "text/html": "(117 rows affected)"
                    },
                    "metadata": {}
                },
                {
                    "output_type": "display_data",
                    "data": {
                        "text/html": "Total execution time: 00:00:00.564"
                    },
                    "metadata": {}
                }
            ],
            "execution_count": 11
        },
        {
            "cell_type": "markdown",
            "source": [
                "**Comment:** Typing errors were resolved by replacing the wrong one with the actual value where possible. If the actual value could not be understood from the available data, the cell value was set to null."
            ],
            "metadata": {
                "language": "sql",
                "azdata_cell_guid": "0481802f-324e-4c7f-8936-15a5a402ce9f"
            },
            "attachments": {}
        },
        {
            "cell_type": "markdown",
            "source": [
                "## **Check for Duplicate Rows**"
            ],
            "metadata": {
                "language": "sql",
                "azdata_cell_guid": "e3acc253-38d8-4b47-abcc-a110275c100b"
            },
            "attachments": {}
        },
        {
            "cell_type": "code",
            "source": [
                "-- Use a CTE to assign row numbers to rows partitioned by ParcelID, SaleDate, SalePrice, and LegalReference. with an arbitrary ordering\r\n",
                "WITH CTE AS (\r\n",
                "    SELECT ParcelID, SaleDate, SalePrice, LegalReference,\r\n",
                "        ROW_NUMBER() OVER(PARTITION BY ParcelID, SaleDate, SalePrice, LegalReference ORDER BY(SELECT NULL)) AS RowNum\r\n",
                "    FROM Housing_Data_Clean\r\n",
                ")\r\n",
                "-- Retrieve rows from the CTE where the row number is greater than 1\r\n",
                "SELECT *\r\n",
                "FROM CTE\r\n",
                "WHERE RowNum > 1;"
            ],
            "metadata": {
                "language": "sql",
                "azdata_cell_guid": "0d06602a-d5c3-401a-a2ad-7fbaa7b0e2ff",
                "tags": []
            },
            "outputs": [
                {
                    "output_type": "display_data",
                    "data": {
                        "text/html": "(48 rows affected)"
                    },
                    "metadata": {}
                },
                {
                    "output_type": "display_data",
                    "data": {
                        "text/html": "Total execution time: 00:00:00.087"
                    },
                    "metadata": {}
                },
                {
                    "output_type": "execute_result",
                    "metadata": {},
                    "execution_count": 12,
                    "data": {
                        "application/vnd.dataresource+json": {
                            "schema": {
                                "fields": [
                                    {
                                        "name": "ParcelID"
                                    },
                                    {
                                        "name": "SaleDate"
                                    },
                                    {
                                        "name": "SalePrice"
                                    },
                                    {
                                        "name": "LegalReference"
                                    },
                                    {
                                        "name": "RowNum"
                                    }
                                ]
                            },
                            "data": [
                                {
                                    "ParcelID": "050 02 0 020.00",
                                    "SaleDate": "2015-03-06",
                                    "SalePrice": "65000.00",
                                    "LegalReference": "20150310-0020497",
                                    "RowNum": "2"
                                },
                                {
                                    "ParcelID": "081 02 0 144.00",
                                    "SaleDate": "2015-02-02",
                                    "SalePrice": "57000.00",
                                    "LegalReference": "20150205-0010843",
                                    "RowNum": "2"
                                },
                                {
                                    "ParcelID": "081 07 0 265.00",
                                    "SaleDate": "2015-02-17",
                                    "SalePrice": "65000.00",
                                    "LegalReference": "20150223-0015122",
                                    "RowNum": "2"
                                },
                                {
                                    "ParcelID": "081 10 0 313.00",
                                    "SaleDate": "2015-02-20",
                                    "SalePrice": "35000.00",
                                    "LegalReference": "20150224-0015904",
                                    "RowNum": "2"
                                },
                                {
                                    "ParcelID": "081 11 0 168.00",
                                    "SaleDate": "2015-02-13",
                                    "SalePrice": "44500.00",
                                    "LegalReference": "20150218-0013602",
                                    "RowNum": "2"
                                },
                                {
                                    "ParcelID": "081 11 0 495.00",
                                    "SaleDate": "2015-02-09",
                                    "SalePrice": "36500.00",
                                    "LegalReference": "20150210-0012450",
                                    "RowNum": "2"
                                },
                                {
                                    "ParcelID": "081 15 0 263.00",
                                    "SaleDate": "2015-02-12",
                                    "SalePrice": "55000.00",
                                    "LegalReference": "20150218-0013742",
                                    "RowNum": "2"
                                },
                                {
                                    "ParcelID": "081 15 0 472.00",
                                    "SaleDate": "2015-02-20",
                                    "SalePrice": "35000.00",
                                    "LegalReference": "20150223-0015257",
                                    "RowNum": "2"
                                },
                                {
                                    "ParcelID": "083 14 0 153.00",
                                    "SaleDate": "2013-06-07",
                                    "SalePrice": "449830.00",
                                    "LegalReference": "20130610-0058852",
                                    "RowNum": "2"
                                },
                                {
                                    "ParcelID": "090 08 0 191.00",
                                    "SaleDate": "2015-02-13",
                                    "SalePrice": "169000.00",
                                    "LegalReference": "20150219-0014430",
                                    "RowNum": "2"
                                },
                                {
                                    "ParcelID": "090 12 0 091.00",
                                    "SaleDate": "2015-02-18",
                                    "SalePrice": "208000.00",
                                    "LegalReference": "20150223-0015576",
                                    "RowNum": "2"
                                },
                                {
                                    "ParcelID": "090 15 0 072.00",
                                    "SaleDate": "2015-02-24",
                                    "SalePrice": "211000.00",
                                    "LegalReference": "20150225-0016255",
                                    "RowNum": "2"
                                },
                                {
                                    "ParcelID": "091 04 0 046.00",
                                    "SaleDate": "2015-02-23",
                                    "SalePrice": "40000.00",
                                    "LegalReference": "20150227-0016978",
                                    "RowNum": "2"
                                },
                                {
                                    "ParcelID": "091 06 0 298.00",
                                    "SaleDate": "2015-02-04",
                                    "SalePrice": "345000.00",
                                    "LegalReference": "20150209-0011885",
                                    "RowNum": "2"
                                },
                                {
                                    "ParcelID": "091 07 0 081.00",
                                    "SaleDate": "2015-02-03",
                                    "SalePrice": "112897.00",
                                    "LegalReference": "20150206-0011322",
                                    "RowNum": "2"
                                },
                                {
                                    "ParcelID": "091 07 0 167.00",
                                    "SaleDate": "2015-02-06",
                                    "SalePrice": "210000.00",
                                    "LegalReference": "20150210-0012184",
                                    "RowNum": "2"
                                },
                                {
                                    "ParcelID": "091 07 0 199.00",
                                    "SaleDate": "2015-02-06",
                                    "SalePrice": "160000.00",
                                    "LegalReference": "20150211-0012820",
                                    "RowNum": "2"
                                },
                                {
                                    "ParcelID": "091 07 0 291.00",
                                    "SaleDate": "2015-02-05",
                                    "SalePrice": "310000.00",
                                    "LegalReference": "20150213-0013476",
                                    "RowNum": "2"
                                },
                                {
                                    "ParcelID": "091 07 0 389.00",
                                    "SaleDate": "2015-02-10",
                                    "SalePrice": "324900.00",
                                    "LegalReference": "20150213-0011337",
                                    "RowNum": "2"
                                },
                                {
                                    "ParcelID": "091 07 0 389.00",
                                    "SaleDate": "2015-02-10",
                                    "SalePrice": "324900.00",
                                    "LegalReference": "20150213-0013370",
                                    "RowNum": "2"
                                },
                                {
                                    "ParcelID": "091 07 0 393.00",
                                    "SaleDate": "2015-02-06",
                                    "SalePrice": "160000.00",
                                    "LegalReference": "20150211-0012820",
                                    "RowNum": "2"
                                },
                                {
                                    "ParcelID": "091 08 0 056.00",
                                    "SaleDate": "2015-02-23",
                                    "SalePrice": "69900.00",
                                    "LegalReference": "20150227-0017102",
                                    "RowNum": "2"
                                },
                                {
                                    "ParcelID": "091 10 0 379.00",
                                    "SaleDate": "2015-02-13",
                                    "SalePrice": "120000.00",
                                    "LegalReference": "20150218-0014209",
                                    "RowNum": "2"
                                },
                                {
                                    "ParcelID": "091 11 0 066.00",
                                    "SaleDate": "2015-02-23",
                                    "SalePrice": "145000.00",
                                    "LegalReference": "20150225-0016295",
                                    "RowNum": "2"
                                },
                                {
                                    "ParcelID": "092 06 0 282.00",
                                    "SaleDate": "2015-02-20",
                                    "SalePrice": "41500.00",
                                    "LegalReference": "20150224-0015900",
                                    "RowNum": "2"
                                },
                                {
                                    "ParcelID": "102 03 0 053.00",
                                    "SaleDate": "2015-02-20",
                                    "SalePrice": "160000.00",
                                    "LegalReference": "20150224-0015666",
                                    "RowNum": "2"
                                },
                                {
                                    "ParcelID": "107 14 0 157.00",
                                    "SaleDate": "2015-02-12",
                                    "SalePrice": "80000.00",
                                    "LegalReference": "20150219-0014347",
                                    "RowNum": "2"
                                },
                                {
                                    "ParcelID": "108 08 0 114.00",
                                    "SaleDate": "2015-02-06",
                                    "SalePrice": "98000.00",
                                    "LegalReference": "20150218-0014165",
                                    "RowNum": "2"
                                },
                                {
                                    "ParcelID": "108 16 0 105.00",
                                    "SaleDate": "2015-02-04",
                                    "SalePrice": "136000.00",
                                    "LegalReference": "20150206-0011342",
                                    "RowNum": "2"
                                },
                                {
                                    "ParcelID": "119 16 0 080.00",
                                    "SaleDate": "2015-02-13",
                                    "SalePrice": "139000.00",
                                    "LegalReference": "20150218-0013634",
                                    "RowNum": "2"
                                },
                                {
                                    "ParcelID": "119 16 0 084.00",
                                    "SaleDate": "2015-02-17",
                                    "SalePrice": "80000.00",
                                    "LegalReference": "20150218-0014086",
                                    "RowNum": "2"
                                },
                                {
                                    "ParcelID": "120 05 0 183.00",
                                    "SaleDate": "2015-02-12",
                                    "SalePrice": "130000.00",
                                    "LegalReference": "20150218-0013626",
                                    "RowNum": "2"
                                },
                                {
                                    "ParcelID": "120 09 0 064.00",
                                    "SaleDate": "2015-02-13",
                                    "SalePrice": "138000.00",
                                    "LegalReference": "20150218-0013804",
                                    "RowNum": "2"
                                },
                                {
                                    "ParcelID": "120 10 0 077.00",
                                    "SaleDate": "2015-02-10",
                                    "SalePrice": "198000.00",
                                    "LegalReference": "20150212-0012998",
                                    "RowNum": "2"
                                },
                                {
                                    "ParcelID": "136 06 0 070.00",
                                    "SaleDate": "2015-02-20",
                                    "SalePrice": "187400.00",
                                    "LegalReference": "20150223-0015515",
                                    "RowNum": "2"
                                },
                                {
                                    "ParcelID": "136 13 0 148.00",
                                    "SaleDate": "2015-02-23",
                                    "SalePrice": "103500.00",
                                    "LegalReference": "20150226-0016521",
                                    "RowNum": "2"
                                },
                                {
                                    "ParcelID": "148 08 0 215.00",
                                    "SaleDate": "2015-02-20",
                                    "SalePrice": "93900.00",
                                    "LegalReference": "20150225-0016074",
                                    "RowNum": "2"
                                },
                                {
                                    "ParcelID": "149 03 0 035.00",
                                    "SaleDate": "2015-02-11",
                                    "SalePrice": "153000.00",
                                    "LegalReference": "20150212-0012952",
                                    "RowNum": "2"
                                },
                                {
                                    "ParcelID": "149 03 0 093.00",
                                    "SaleDate": "2015-02-17",
                                    "SalePrice": "68500.00",
                                    "LegalReference": "20150220-0014671",
                                    "RowNum": "2"
                                },
                                {
                                    "ParcelID": "150 02 0 255.00",
                                    "SaleDate": "2014-02-03",
                                    "SalePrice": "108000.00",
                                    "LegalReference": "20140204-0009995",
                                    "RowNum": "2"
                                },
                                {
                                    "ParcelID": "150 03 0 398.00",
                                    "SaleDate": "2015-02-26",
                                    "SalePrice": "142000.00",
                                    "LegalReference": "20150227-0017035",
                                    "RowNum": "2"
                                },
                                {
                                    "ParcelID": "150 03 0 442.00",
                                    "SaleDate": "2015-02-02",
                                    "SalePrice": "145500.00",
                                    "LegalReference": "20150204-0010488",
                                    "RowNum": "2"
                                },
                                {
                                    "ParcelID": "150 04 0 144.00",
                                    "SaleDate": "2015-02-13",
                                    "SalePrice": "180000.00",
                                    "LegalReference": "20150213-0013547",
                                    "RowNum": "2"
                                },
                                {
                                    "ParcelID": "150 05 0 048.00",
                                    "SaleDate": "2015-02-19",
                                    "SalePrice": "136500.00",
                                    "LegalReference": "20150219-0014520",
                                    "RowNum": "2"
                                },
                                {
                                    "ParcelID": "150 05 0 054.00",
                                    "SaleDate": "2015-02-13",
                                    "SalePrice": "140000.00",
                                    "LegalReference": "20150224-0015741",
                                    "RowNum": "2"
                                },
                                {
                                    "ParcelID": "150 05 0 353.00",
                                    "SaleDate": "2015-02-10",
                                    "SalePrice": "127000.00",
                                    "LegalReference": "20150220-0014765",
                                    "RowNum": "2"
                                },
                                {
                                    "ParcelID": "150 07 0 181.00",
                                    "SaleDate": "2015-02-18",
                                    "SalePrice": "145000.00",
                                    "LegalReference": "20150223-0015167",
                                    "RowNum": "2"
                                },
                                {
                                    "ParcelID": "176 01 0 017.00",
                                    "SaleDate": "2015-02-13",
                                    "SalePrice": "152000.00",
                                    "LegalReference": "20150220-0014969",
                                    "RowNum": "2"
                                }
                            ]
                        },
                        "text/html": [
                            "<table>",
                            "<tr><th>ParcelID</th><th>SaleDate</th><th>SalePrice</th><th>LegalReference</th><th>RowNum</th></tr>",
                            "<tr><td>050 02 0 020.00</td><td>2015-03-06</td><td>65000.00</td><td>20150310-0020497</td><td>2</td></tr>",
                            "<tr><td>081 02 0 144.00</td><td>2015-02-02</td><td>57000.00</td><td>20150205-0010843</td><td>2</td></tr>",
                            "<tr><td>081 07 0 265.00</td><td>2015-02-17</td><td>65000.00</td><td>20150223-0015122</td><td>2</td></tr>",
                            "<tr><td>081 10 0 313.00</td><td>2015-02-20</td><td>35000.00</td><td>20150224-0015904</td><td>2</td></tr>",
                            "<tr><td>081 11 0 168.00</td><td>2015-02-13</td><td>44500.00</td><td>20150218-0013602</td><td>2</td></tr>",
                            "<tr><td>081 11 0 495.00</td><td>2015-02-09</td><td>36500.00</td><td>20150210-0012450</td><td>2</td></tr>",
                            "<tr><td>081 15 0 263.00</td><td>2015-02-12</td><td>55000.00</td><td>20150218-0013742</td><td>2</td></tr>",
                            "<tr><td>081 15 0 472.00</td><td>2015-02-20</td><td>35000.00</td><td>20150223-0015257</td><td>2</td></tr>",
                            "<tr><td>083 14 0 153.00</td><td>2013-06-07</td><td>449830.00</td><td>20130610-0058852</td><td>2</td></tr>",
                            "<tr><td>090 08 0 191.00</td><td>2015-02-13</td><td>169000.00</td><td>20150219-0014430</td><td>2</td></tr>",
                            "<tr><td>090 12 0 091.00</td><td>2015-02-18</td><td>208000.00</td><td>20150223-0015576</td><td>2</td></tr>",
                            "<tr><td>090 15 0 072.00</td><td>2015-02-24</td><td>211000.00</td><td>20150225-0016255</td><td>2</td></tr>",
                            "<tr><td>091 04 0 046.00</td><td>2015-02-23</td><td>40000.00</td><td>20150227-0016978</td><td>2</td></tr>",
                            "<tr><td>091 06 0 298.00</td><td>2015-02-04</td><td>345000.00</td><td>20150209-0011885</td><td>2</td></tr>",
                            "<tr><td>091 07 0 081.00</td><td>2015-02-03</td><td>112897.00</td><td>20150206-0011322</td><td>2</td></tr>",
                            "<tr><td>091 07 0 167.00</td><td>2015-02-06</td><td>210000.00</td><td>20150210-0012184</td><td>2</td></tr>",
                            "<tr><td>091 07 0 199.00</td><td>2015-02-06</td><td>160000.00</td><td>20150211-0012820</td><td>2</td></tr>",
                            "<tr><td>091 07 0 291.00</td><td>2015-02-05</td><td>310000.00</td><td>20150213-0013476</td><td>2</td></tr>",
                            "<tr><td>091 07 0 389.00</td><td>2015-02-10</td><td>324900.00</td><td>20150213-0011337</td><td>2</td></tr>",
                            "<tr><td>091 07 0 389.00</td><td>2015-02-10</td><td>324900.00</td><td>20150213-0013370</td><td>2</td></tr>",
                            "<tr><td>091 07 0 393.00</td><td>2015-02-06</td><td>160000.00</td><td>20150211-0012820</td><td>2</td></tr>",
                            "<tr><td>091 08 0 056.00</td><td>2015-02-23</td><td>69900.00</td><td>20150227-0017102</td><td>2</td></tr>",
                            "<tr><td>091 10 0 379.00</td><td>2015-02-13</td><td>120000.00</td><td>20150218-0014209</td><td>2</td></tr>",
                            "<tr><td>091 11 0 066.00</td><td>2015-02-23</td><td>145000.00</td><td>20150225-0016295</td><td>2</td></tr>",
                            "<tr><td>092 06 0 282.00</td><td>2015-02-20</td><td>41500.00</td><td>20150224-0015900</td><td>2</td></tr>",
                            "<tr><td>102 03 0 053.00</td><td>2015-02-20</td><td>160000.00</td><td>20150224-0015666</td><td>2</td></tr>",
                            "<tr><td>107 14 0 157.00</td><td>2015-02-12</td><td>80000.00</td><td>20150219-0014347</td><td>2</td></tr>",
                            "<tr><td>108 08 0 114.00</td><td>2015-02-06</td><td>98000.00</td><td>20150218-0014165</td><td>2</td></tr>",
                            "<tr><td>108 16 0 105.00</td><td>2015-02-04</td><td>136000.00</td><td>20150206-0011342</td><td>2</td></tr>",
                            "<tr><td>119 16 0 080.00</td><td>2015-02-13</td><td>139000.00</td><td>20150218-0013634</td><td>2</td></tr>",
                            "<tr><td>119 16 0 084.00</td><td>2015-02-17</td><td>80000.00</td><td>20150218-0014086</td><td>2</td></tr>",
                            "<tr><td>120 05 0 183.00</td><td>2015-02-12</td><td>130000.00</td><td>20150218-0013626</td><td>2</td></tr>",
                            "<tr><td>120 09 0 064.00</td><td>2015-02-13</td><td>138000.00</td><td>20150218-0013804</td><td>2</td></tr>",
                            "<tr><td>120 10 0 077.00</td><td>2015-02-10</td><td>198000.00</td><td>20150212-0012998</td><td>2</td></tr>",
                            "<tr><td>136 06 0 070.00</td><td>2015-02-20</td><td>187400.00</td><td>20150223-0015515</td><td>2</td></tr>",
                            "<tr><td>136 13 0 148.00</td><td>2015-02-23</td><td>103500.00</td><td>20150226-0016521</td><td>2</td></tr>",
                            "<tr><td>148 08 0 215.00</td><td>2015-02-20</td><td>93900.00</td><td>20150225-0016074</td><td>2</td></tr>",
                            "<tr><td>149 03 0 035.00</td><td>2015-02-11</td><td>153000.00</td><td>20150212-0012952</td><td>2</td></tr>",
                            "<tr><td>149 03 0 093.00</td><td>2015-02-17</td><td>68500.00</td><td>20150220-0014671</td><td>2</td></tr>",
                            "<tr><td>150 02 0 255.00</td><td>2014-02-03</td><td>108000.00</td><td>20140204-0009995</td><td>2</td></tr>",
                            "<tr><td>150 03 0 398.00</td><td>2015-02-26</td><td>142000.00</td><td>20150227-0017035</td><td>2</td></tr>",
                            "<tr><td>150 03 0 442.00</td><td>2015-02-02</td><td>145500.00</td><td>20150204-0010488</td><td>2</td></tr>",
                            "<tr><td>150 04 0 144.00</td><td>2015-02-13</td><td>180000.00</td><td>20150213-0013547</td><td>2</td></tr>",
                            "<tr><td>150 05 0 048.00</td><td>2015-02-19</td><td>136500.00</td><td>20150219-0014520</td><td>2</td></tr>",
                            "<tr><td>150 05 0 054.00</td><td>2015-02-13</td><td>140000.00</td><td>20150224-0015741</td><td>2</td></tr>",
                            "<tr><td>150 05 0 353.00</td><td>2015-02-10</td><td>127000.00</td><td>20150220-0014765</td><td>2</td></tr>",
                            "<tr><td>150 07 0 181.00</td><td>2015-02-18</td><td>145000.00</td><td>20150223-0015167</td><td>2</td></tr>",
                            "<tr><td>176 01 0 017.00</td><td>2015-02-13</td><td>152000.00</td><td>20150220-0014969</td><td>2</td></tr>",
                            "</table>"
                        ]
                    }
                }
            ],
            "execution_count": 12
        },
        {
            "cell_type": "markdown",
            "source": [
                "**Comment:** At this point, 48 duplicate rows are present in the dataset."
            ],
            "metadata": {
                "language": "sql",
                "azdata_cell_guid": "8c821a20-10f3-497b-9bcd-c92484b62988"
            },
            "attachments": {}
        },
        {
            "cell_type": "markdown",
            "source": [
                "## **Remove Duplicate Rows**"
            ],
            "metadata": {
                "language": "sql",
                "azdata_cell_guid": "615e5192-3767-44e4-83e1-807521af99cd"
            },
            "attachments": {}
        },
        {
            "cell_type": "code",
            "source": [
                "-- Use a CTE to assign row numbers to rows partitioned by ParcelID, SaleDate, SalePrice, and LegalReference. with an arbitrary ordering\r\n",
                "WITH CTE AS (\r\n",
                "    SELECT ParcelID, SaleDate, SalePrice, LegalReference,\r\n",
                "        ROW_NUMBER() OVER(PARTITION BY ParcelID, SaleDate, SalePrice, LegalReference ORDER BY(SELECT NULL)) AS RowNum\r\n",
                "    FROM Housing_Data_Clean\r\n",
                ")\r\n",
                "-- Delete rows from the CTE where the row number is greater than 1\r\n",
                "DELETE FROM CTE\r\n",
                "WHERE RowNum > 1;"
            ],
            "metadata": {
                "language": "sql",
                "azdata_cell_guid": "97d6468f-eaf7-4e94-85eb-def4a71adfa6",
                "tags": []
            },
            "outputs": [
                {
                    "output_type": "display_data",
                    "data": {
                        "text/html": "(48 rows affected)"
                    },
                    "metadata": {}
                },
                {
                    "output_type": "display_data",
                    "data": {
                        "text/html": "Total execution time: 00:00:00.051"
                    },
                    "metadata": {}
                }
            ],
            "execution_count": 13
        },
        {
            "cell_type": "markdown",
            "source": [
                "**Comment:** After removing 48 duplicates, now retaining only one copy of each unique combination ParcelID, SaleDate, SalePrice, and LegalReference."
            ],
            "metadata": {
                "language": "sql",
                "azdata_cell_guid": "331fbb81-45f1-4cd1-8116-b01b888f4130"
            },
            "attachments": {}
        },
        {
            "cell_type": "markdown",
            "source": [
                "## **Identify Outliers**"
            ],
            "metadata": {
                "language": "sql",
                "azdata_cell_guid": "b694b7ed-d600-43c9-9a74-bbf11867d6af"
            },
            "attachments": {}
        },
        {
            "cell_type": "code",
            "source": [
                "-- Calculate quartiles\r\n",
                "WITH Quartiles AS (\r\n",
                "    SELECT \r\n",
                "        PERCENTILE_CONT(0.25) WITHIN GROUP (ORDER BY SalePrice) OVER(PARTITION BY 1) AS Q1,\r\n",
                "        PERCENTILE_CONT(0.75) WITHIN GROUP (ORDER BY SalePrice) OVER(PARTITION BY 1) AS Q3\r\n",
                "    FROM Housing_Data_Clean\r\n",
                "),\r\n",
                "-- Calculate IQR\r\n",
                "IQR AS (\r\n",
                "    SELECT \r\n",
                "        MAX(Q1) AS Q1,\r\n",
                "        MAX(Q3) AS Q3,\r\n",
                "        MAX(Q3) - MAX(Q1) AS IQR\r\n",
                "    FROM Quartiles\r\n",
                ")\r\n",
                "-- Identify outliers\r\n",
                "SELECT *\r\n",
                "FROM Housing_Data_Clean\r\n",
                "WHERE SalePrice < (SELECT Q1 - 1.5 * IQR FROM IQR) OR SalePrice > (SELECT Q3 + 1.5 * IQR FROM IQR);"
            ],
            "metadata": {
                "language": "sql",
                "azdata_cell_guid": "ee9a2f18-08be-4933-a007-1d0f5d3e0096",
                "tags": []
            },
            "outputs": [],
            "execution_count": null
        },
        {
            "cell_type": "markdown",
            "source": [
                "**Comment:** 7.24% of the SalePrice rows are outliers. However, without further investigation it is not possible to determine whether they are valid data points or errors."
            ],
            "metadata": {
                "language": "sql",
                "azdata_cell_guid": "a7d88d8c-5ce0-4ba9-98a8-9d5884e007e0"
            },
            "attachments": {}
        },
        {
            "cell_type": "markdown",
            "source": [
                "## **Split Columns**"
            ],
            "metadata": {
                "language": "sql",
                "azdata_cell_guid": "d159b82d-0b68-4288-84b9-5ac4f1d0fd6c"
            },
            "attachments": {}
        },
        {
            "cell_type": "markdown",
            "source": [
                "### **First Add New Columns to the Table**"
            ],
            "metadata": {
                "language": "sql",
                "azdata_cell_guid": "aff9d3ca-3caf-4ee0-a3f3-6489e4126409"
            },
            "attachments": {}
        },
        {
            "cell_type": "code",
            "source": [
                "-- Add new columns to the table\r\n",
                "ALTER TABLE Housing_Data_Clean\r\n",
                "ADD ProAddress NVARCHAR (50),\r\n",
                "    ProCity NVARCHAR (50),\r\n",
                "    OwnAddress NVARCHAR (50),\r\n",
                "    OwnCity NVARCHAR (50),\r\n",
                "    OwnState NVARCHAR (50);"
            ],
            "metadata": {
                "language": "sql",
                "azdata_cell_guid": "d6d1e818-b4bc-4311-8f6e-36f9e238eedc",
                "tags": []
            },
            "outputs": [
                {
                    "output_type": "display_data",
                    "data": {
                        "text/html": "Commands completed successfully."
                    },
                    "metadata": {}
                },
                {
                    "output_type": "display_data",
                    "data": {
                        "text/html": "Total execution time: 00:00:00.005"
                    },
                    "metadata": {}
                }
            ],
            "execution_count": 14
        },
        {
            "cell_type": "markdown",
            "source": [
                "**Comment:** ProAddress and ProCity columns are to store extracted data from PropertyAddress. OwnAddress, OwnCity, and OwnState columns are to store extracted data from OwnerAddress column."
            ],
            "metadata": {
                "language": "sql",
                "azdata_cell_guid": "44b97953-e2af-4efc-af37-552a80709961"
            },
            "attachments": {}
        },
        {
            "cell_type": "markdown",
            "source": [
                "### **Populate New Columns**"
            ],
            "metadata": {
                "language": "sql",
                "azdata_cell_guid": "a87f4252-7dde-4a9c-a92c-1fb05f7a4a98"
            },
            "attachments": {}
        },
        {
            "cell_type": "code",
            "source": [
                "-- Update the new columns by adding extracted data from PropertyAddrsess \r\n",
                "UPDATE Housing_Data_Clean\r\n",
                "SET ProAddress = SUBSTRING(PropertyAddress, 1, CHARINDEX(',', PropertyAddress) - 1),\r\n",
                "    ProCity = SUBSTRING(PropertyAddress, CHARINDEX(',', PropertyAddress) + 2, LEN(PropertyAddress)),\r\n",
                "\r\n",
                "-- Update the new columns by adding extracted data from OwnerAddrsess \r\n",
                "    OwnAddress = PARSENAME(REPLACE(OwnerAddress, ',', '.'), 3),\r\n",
                "    OwnCity = PARSENAME(REPLACE(OwnerAddress, ', ', '.'), 2),\r\n",
                "    OwnState = PARSENAME(REPLACE(OwnerAddress, ', ', '.'), 1);"
            ],
            "metadata": {
                "language": "sql",
                "azdata_cell_guid": "389f9f29-9938-49ee-926d-f30b52b6926f",
                "tags": []
            },
            "outputs": [
                {
                    "output_type": "display_data",
                    "data": {
                        "text/html": "(25967 rows affected)"
                    },
                    "metadata": {}
                },
                {
                    "output_type": "display_data",
                    "data": {
                        "text/html": "Total execution time: 00:00:00.743"
                    },
                    "metadata": {}
                }
            ],
            "execution_count": 15
        },
        {
            "cell_type": "markdown",
            "source": [
                "**Comment:** Afer splitting PropertyAddress and OwnerAddress columns we now have the separate columns for the city and state data, which can be benificial for analysis and reporting purposes, as it allows easier querying and filtering based on geographic criteria."
            ],
            "metadata": {
                "language": "sql",
                "azdata_cell_guid": "58b762ba-2a9b-4323-aa85-9fae0f111fdf"
            },
            "attachments": {}
        },
        {
            "cell_type": "markdown",
            "source": [
                "## **Remove Unused Columns**"
            ],
            "metadata": {
                "language": "sql",
                "azdata_cell_guid": "5e0e8531-0b24-4126-bd81-3795d55455f6"
            },
            "attachments": {}
        },
        {
            "cell_type": "code",
            "source": [
                "-- Remove specified columns from the table\r\n",
                "ALTER TABLE Housing_Data_Clean\r\n",
                "DROP COLUMN PropertyAddress, \r\n",
                "            OwnerAddress;"
            ],
            "metadata": {
                "language": "sql",
                "azdata_cell_guid": "e8a9c9ba-ad59-4769-8ba2-f3bf06bd2861"
            },
            "outputs": [
                {
                    "output_type": "display_data",
                    "data": {
                        "text/html": "Commands completed successfully."
                    },
                    "metadata": {}
                },
                {
                    "output_type": "display_data",
                    "data": {
                        "text/html": "Total execution time: 00:00:00.004"
                    },
                    "metadata": {}
                }
            ],
            "execution_count": 16
        },
        {
            "cell_type": "markdown",
            "source": [
                "**Comment:** Original PropertyAddress and OwnerAddress columns were deleted to avoid redundancy, as new columns are already in place holding the same data."
            ],
            "metadata": {
                "language": "sql",
                "azdata_cell_guid": "216f94e8-cd86-4069-8cc1-9de51e5df578"
            },
            "attachments": {}
        }
    ]
}
